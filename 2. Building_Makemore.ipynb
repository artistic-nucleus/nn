{
 "cells": [
  {
   "cell_type": "code",
   "execution_count": 9,
   "id": "a83db136",
   "metadata": {},
   "outputs": [],
   "source": [
    "import matplotlib.pyplot as plt\n",
    "import torch\n",
    "%matplotlib inline"
   ]
  },
  {
   "cell_type": "code",
   "execution_count": 5,
   "id": "60a720d7",
   "metadata": {},
   "outputs": [],
   "source": [
    "words = open('names.txt', 'r').read().splitlines()"
   ]
  },
  {
   "cell_type": "code",
   "execution_count": null,
   "id": "e9ae95f6",
   "metadata": {},
   "outputs": [],
   "source": [
    "words[:10]"
   ]
  },
  {
   "cell_type": "code",
   "execution_count": null,
   "id": "14f6e1f3",
   "metadata": {},
   "outputs": [],
   "source": [
    "len(words)"
   ]
  },
  {
   "cell_type": "code",
   "execution_count": null,
   "id": "7ff6b6f1",
   "metadata": {},
   "outputs": [],
   "source": [
    "min(len(word) for word in words), max(len(word) for word in words)"
   ]
  },
  {
   "cell_type": "code",
   "execution_count": null,
   "id": "d144efed",
   "metadata": {},
   "outputs": [],
   "source": [
    "b = {}\n",
    "for w in words:\n",
    "    chs = ['<S>'] + list(w) + ['<E>']\n",
    "    for char1, char2 in zip(chs, chs[1:]):\n",
    "        bigram = (char1, char2)\n",
    "        b[bigram] = b.get(bigram, 0) + 1\n",
    "        #print(char1,char2)"
   ]
  },
  {
   "cell_type": "code",
   "execution_count": null,
   "id": "479b0d7c",
   "metadata": {},
   "outputs": [],
   "source": [
    "sorted(b.items(), key = lambda kv : kv[1], reverse=True)"
   ]
  },
  {
   "cell_type": "code",
   "execution_count": null,
   "id": "3b67f515",
   "metadata": {},
   "outputs": [],
   "source": [
    "N = torch.zeros((27,27), dtype = torch.int32)"
   ]
  },
  {
   "cell_type": "code",
   "execution_count": 7,
   "id": "359467a1",
   "metadata": {},
   "outputs": [],
   "source": [
    "chars = sorted(list(set(''.join(words))))\n",
    "stoi = {s:i+1 for i, s in enumerate(chars)}\n",
    "stoi['.'] = 0\n",
    "itos = {i:s for s,i in stoi.items()}"
   ]
  },
  {
   "cell_type": "code",
   "execution_count": null,
   "id": "a862392d",
   "metadata": {},
   "outputs": [],
   "source": [
    "itos"
   ]
  },
  {
   "cell_type": "code",
   "execution_count": null,
   "id": "1b3eb49b",
   "metadata": {},
   "outputs": [],
   "source": [
    "for w in words:\n",
    "    chs = ['.'] + list(w) + ['.']\n",
    "    for char1, char2 in zip(chs, chs[1:]):\n",
    "        ix1 = stoi[char1]\n",
    "        ix2 = stoi[char2]\n",
    "        N[ix1,ix2] +=1 #gives number of occurences of each pair of ix1,ix2"
   ]
  },
  {
   "cell_type": "code",
   "execution_count": null,
   "id": "553e7872",
   "metadata": {},
   "outputs": [],
   "source": [
    "plt.figure(figsize=(15,15))\n",
    "plt.imshow(N, cmap = 'Blues')\n",
    "for i in range(27):\n",
    "    for j in range(27):\n",
    "        chstr = itos[i] +itos[j]\n",
    "        plt.text(j, i, chstr, ha=\"center\", va=\"bottom\", color = \"gray\")\n",
    "        plt.text(j, i, N[i,j].item(), ha=\"center\", va=\"top\", color = \"gray\")\n",
    "plt.axis('off');"
   ]
  },
  {
   "cell_type": "code",
   "execution_count": null,
   "id": "efba69f0",
   "metadata": {},
   "outputs": [],
   "source": [
    "N[0]"
   ]
  },
  {
   "cell_type": "code",
   "execution_count": null,
   "id": "f98ec881",
   "metadata": {},
   "outputs": [],
   "source": [
    "#pd for first row\n",
    "p = N[0].float()\n",
    "p /= p.sum()\n",
    "p"
   ]
  },
  {
   "cell_type": "code",
   "execution_count": null,
   "id": "6a10e733",
   "metadata": {},
   "outputs": [],
   "source": [
    "# sum of pd will always be 1\n",
    "sum(p)"
   ]
  },
  {
   "cell_type": "code",
   "execution_count": null,
   "id": "605ece4d",
   "metadata": {},
   "outputs": [],
   "source": [
    "# to create a deterministic random number generator\n",
    "g = torch.Generator().manual_seed(2147483647)\n",
    "p = torch.rand(3, generator = g)\n",
    "p /= p.sum()\n",
    "p"
   ]
  },
  {
   "cell_type": "code",
   "execution_count": null,
   "id": "76e002fe",
   "metadata": {},
   "outputs": [],
   "source": [
    "g = torch.Generator().manual_seed(2147483647)\n",
    "ix = torch.multinomial(p, num_samples = 1, replacement=True, generator = g).item()\n",
    "itos[ix]"
   ]
  },
  {
   "cell_type": "code",
   "execution_count": null,
   "id": "e286f141",
   "metadata": {},
   "outputs": [],
   "source": [
    "# to sample data using a RNG\n",
    "torch.multinomial(p, num_samples = 100, replacement = True, generator=g)"
   ]
  },
  {
   "cell_type": "code",
   "execution_count": null,
   "id": "ed6c83c3",
   "metadata": {},
   "outputs": [],
   "source": [
    "P = (N+1).float(), #probability matrixt\n",
    "P = P[0]"
   ]
  },
  {
   "cell_type": "code",
   "execution_count": null,
   "id": "32d339f6",
   "metadata": {},
   "outputs": [],
   "source": [
    "P /= P.sum(1, keepdim=True) \n",
    "P[0]"
   ]
  },
  {
   "cell_type": "code",
   "execution_count": null,
   "id": "b6f2f724",
   "metadata": {},
   "outputs": [],
   "source": [
    "g = torch.Generator().manual_seed(2147483647)\n",
    "for i in range(4):\n",
    "    out =[]\n",
    "    index = 0\n",
    "    while True:\n",
    "        p = P[ix]\n",
    "        #p /= p.sum()\n",
    "        ix = torch.multinomial(p, num_samples = 1, replacement = True, generator = g).item()\n",
    "        out.append(itos[ix])\n",
    "        if ix == 0:\n",
    "            break\n",
    "    print(''.join(out))"
   ]
  },
  {
   "cell_type": "code",
   "execution_count": null,
   "id": "9eb5f4a0",
   "metadata": {},
   "outputs": [],
   "source": [
    "log_likelihood = 0.0\n",
    "n = 0\n",
    "for w in words:\n",
    "#for w in [\"john\"]:\n",
    "    chs = ['.'] + list(w) + ['.']\n",
    "    for char1, char2 in zip(chs, chs[1:]):\n",
    "        ix1 = stoi[char1]\n",
    "        ix2 = stoi[char2]\n",
    "        prob = P[ix1,ix2]\n",
    "        logprob = torch.log(prob)\n",
    "        log_likelihood += logprob\n",
    "        n += 1\n",
    "       # print(f'{char1}{char2}: {prob:.4f}')\n",
    "print(f'{log_likelihood=}')\n",
    "nll = -log_likelihood\n",
    "print(f'{nll=}')\n",
    "avg_nll = nll/n\n",
    "print(f'{avg_nll=:.4f}')\n",
    "# maximizing likelihood -> maximizing log -> minimizing nll -> minimizing avg"
   ]
  },
  {
   "cell_type": "code",
   "execution_count": null,
   "id": "c40332dc",
   "metadata": {},
   "outputs": [],
   "source": [
    "#NN approach\n",
    "xs,ys = [], [] #input and expected output\n",
    "for w in words[:1]:\n",
    "    chs = ['.'] + list(w) + ['.']\n",
    "    for char1, char2 in zip(chs, chs[1:]):\n",
    "        ix1 = stoi[char1]\n",
    "        ix2 = stoi[char2]\n",
    "        xs.append(ix1)\n",
    "        ys.append(ix2)\n",
    "        \n",
    "xs = torch.tensor(xs)\n",
    "ys = torch.tensor(ys)"
   ]
  },
  {
   "cell_type": "code",
   "execution_count": null,
   "id": "4ab00a3b",
   "metadata": {},
   "outputs": [],
   "source": [
    "print(xs, ys)"
   ]
  },
  {
   "cell_type": "code",
   "execution_count": 10,
   "id": "f49507eb",
   "metadata": {},
   "outputs": [],
   "source": [
    "import torch.nn.functional as F"
   ]
  },
  {
   "cell_type": "code",
   "execution_count": null,
   "id": "e1312af4",
   "metadata": {},
   "outputs": [],
   "source": [
    "xenc = F.one_hot(xs, num_classes = 27).float()\n",
    "xenc"
   ]
  },
  {
   "cell_type": "code",
   "execution_count": null,
   "id": "b6198070",
   "metadata": {},
   "outputs": [],
   "source": [
    "xenc.shape, xenc.dtype"
   ]
  },
  {
   "cell_type": "code",
   "execution_count": null,
   "id": "ac935586",
   "metadata": {},
   "outputs": [],
   "source": [
    "W = torch.randn((27,1)) # one neuron 27 inputs\n",
    "xenc @ W\n",
    "W = torch.randn((27,27), generator = g, requires_grad = True) # 27 neurons with 27 inputs each\n",
    "xenc @ W #((5,27) @ (27,27) =(5,27))\n",
    "#These are outputs for 5 inputs. For each input we get the amount by which each of the 27 neurons \n",
    "# will be activated. since by hot encoding only desired char has value one, rest of products will be zero\n",
    "# so sum(w*x) will give value for hot encoded char only as rest of x values are zero"
   ]
  },
  {
   "cell_type": "code",
   "execution_count": null,
   "id": "00a55517",
   "metadata": {},
   "outputs": [],
   "source": [
    "#forward pass\n",
    "xenc = F.one_hot(xs, num_classes = 27).float()\n",
    "\n",
    "logits = xenc @ W\n",
    "counts = logits.exp()\n",
    "probs = counts / counts.sum(1,keepdim=True)\n",
    "#above two lines are called softmax\n",
    "#probs\n",
    "loss = -probs[torch.arange(5), ys].log().mean() #probs of output, then taking log and average to get nll"
   ]
  },
  {
   "cell_type": "code",
   "execution_count": null,
   "id": "9d3dbffd",
   "metadata": {},
   "outputs": [],
   "source": [
    "loss.item()"
   ]
  },
  {
   "cell_type": "code",
   "execution_count": null,
   "id": "1e76d4ca",
   "metadata": {},
   "outputs": [],
   "source": [
    "probs[0].sum(), probs.shape"
   ]
  },
  {
   "cell_type": "code",
   "execution_count": null,
   "id": "73d17775",
   "metadata": {},
   "outputs": [],
   "source": [
    "#for each index we want probability of *output* for hot encoded char only, like \n",
    "probs[0,5], probs[1,13], probs[2,13], probs[3,1], probs[4,0]\n",
    "# we can do that using arange in torch # revise this cell"
   ]
  },
  {
   "cell_type": "code",
   "execution_count": null,
   "id": "0a6248a1",
   "metadata": {},
   "outputs": [],
   "source": [
    "#backward pass\n",
    "W.grad = None\n",
    "loss.backward()"
   ]
  },
  {
   "cell_type": "code",
   "execution_count": null,
   "id": "f60ff218",
   "metadata": {},
   "outputs": [],
   "source": [
    "#update\n",
    "W = -0.01 * W.grad"
   ]
  },
  {
   "cell_type": "code",
   "execution_count": null,
   "id": "5bf41761",
   "metadata": {},
   "outputs": [],
   "source": [
    "# Entire optimization part"
   ]
  },
  {
   "cell_type": "code",
   "execution_count": 11,
   "id": "1e91c794",
   "metadata": {},
   "outputs": [
    {
     "name": "stdout",
     "output_type": "stream",
     "text": [
      "number of examples:  228146\n"
     ]
    }
   ],
   "source": [
    "#create the dataset\n",
    "xs,ys = [], [] #input and expected output\n",
    "for w in words:\n",
    "    chs = ['.'] + list(w) + ['.']\n",
    "    for char1, char2 in zip(chs, chs[1:]):\n",
    "        ix1 = stoi[char1]\n",
    "        ix2 = stoi[char2]\n",
    "        xs.append(ix1)\n",
    "        ys.append(ix2)\n",
    "num = len(xs)\n",
    "print(\"number of examples: \", num)\n",
    "xs = torch.tensor(xs)\n",
    "ys = torch.tensor(ys)\n",
    "\n",
    "#initializing the network\n",
    "g = torch.Generator().manual_seed(2147483647)\n",
    "W = torch.randn((27,27), generator = g, requires_grad = True)"
   ]
  },
  {
   "cell_type": "code",
   "execution_count": 72,
   "id": "e0147c39",
   "metadata": {},
   "outputs": [
    {
     "name": "stdout",
     "output_type": "stream",
     "text": [
      "2.5060033798217773\n",
      "2.5059330463409424\n",
      "2.5058624744415283\n",
      "2.5057926177978516\n",
      "2.505722999572754\n",
      "2.5056540966033936\n",
      "2.5055856704711914\n",
      "2.5055174827575684\n",
      "2.5054502487182617\n",
      "2.505382537841797\n"
     ]
    }
   ],
   "source": [
    "#grad des\n",
    "for k in range(10):\n",
    "    #forward pass\n",
    "    xenc = F.one_hot(xs, num_classes = 27).float()\n",
    "    logits = xenc @ W\n",
    "    counts = logits.exp()\n",
    "    probs = counts / counts.sum(1,keepdim=True)\n",
    "    loss = -probs[torch.arange(num), ys].log().mean() + 0.01*(W**2).mean()\n",
    "    print(loss.item())\n",
    "   # print(logits[0])\n",
    "    \n",
    "    #backward pass\n",
    "    W.grad = None\n",
    "    loss.backward()\n",
    "    \n",
    "    #update\n",
    "    W.data += -((500-k)/100) * W.grad"
   ]
  },
  {
   "cell_type": "code",
   "execution_count": 73,
   "id": "4e3bc374",
   "metadata": {},
   "outputs": [
    {
     "name": "stdout",
     "output_type": "stream",
     "text": [
      "junide.\n",
      "janasah.\n",
      "pxzfay.\n",
      "a.\n",
      "nn.\n",
      "kohin.\n",
      "tolian.\n",
      "jgee.\n",
      "ksaheiauyanilevias.\n",
      "dbdainrwieta.\n",
      "sejaielylarte.\n",
      "faveumerifontume.\n",
      "phynslenaruani.\n",
      "core.\n",
      "yaenon.\n",
      "ka.\n",
      "jabrinerimikimwynin.\n",
      "anaasn.\n",
      "ssorionszxh.\n",
      "dgosfbrian.\n"
     ]
    }
   ],
   "source": [
    "#sampling from NN\n",
    "g = torch.Generator().manual_seed(2147483647)\n",
    "\n",
    "for i in range(20):\n",
    "    out = []\n",
    "    ix = 0\n",
    "    while True:\n",
    "        xenc = F.one_hot(torch.tensor([ix]), num_classes = 27).float()\n",
    "        logits = xenc @ W\n",
    "        counts = logits.exp()\n",
    "        p = counts / counts.sum(1,keepdim=True)\n",
    "        ix = torch.multinomial(p, num_samples = 1, replacement = True, generator = g).item()\n",
    "        out.append(itos[ix])\n",
    "        if ix == 0:\n",
    "            break\n",
    "    print(''.join(out))"
   ]
  },
  {
   "cell_type": "code",
   "execution_count": null,
   "id": "3b036fae",
   "metadata": {},
   "outputs": [],
   "source": [
    "logits[0]"
   ]
  }
 ],
 "metadata": {
  "kernelspec": {
   "display_name": "Python 3 (ipykernel)",
   "language": "python",
   "name": "python3"
  },
  "language_info": {
   "codemirror_mode": {
    "name": "ipython",
    "version": 3
   },
   "file_extension": ".py",
   "mimetype": "text/x-python",
   "name": "python",
   "nbconvert_exporter": "python",
   "pygments_lexer": "ipython3",
   "version": "3.11.2"
  }
 },
 "nbformat": 4,
 "nbformat_minor": 5
}
