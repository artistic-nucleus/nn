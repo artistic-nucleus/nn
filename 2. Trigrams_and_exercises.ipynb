{
 "cells": [
  {
   "cell_type": "code",
   "execution_count": null,
   "id": "493408bf",
   "metadata": {},
   "outputs": [],
   "source": [
    "#Create a trigram model. Use two chars to predict the third and evaluate the loss. Compare loss to bigram model"
   ]
  },
  {
   "cell_type": "code",
   "execution_count": 1,
   "id": "2cd24965",
   "metadata": {},
   "outputs": [
    {
     "name": "stdout",
     "output_type": "stream",
     "text": [
      " 1.Building_micrograd.ipynb   '2. Trigrams_and_exercises.ipynb'   nb.ipynb\r\n",
      "'2. Building_Makemore.ipynb'   names.txt\r\n"
     ]
    }
   ],
   "source": [
    "!ls"
   ]
  },
  {
   "cell_type": "code",
   "execution_count": 2,
   "id": "8dd2b590",
   "metadata": {},
   "outputs": [],
   "source": [
    "import torch\n",
    "import torch.nn.functional as F\n",
    "import random"
   ]
  },
  {
   "cell_type": "code",
   "execution_count": 3,
   "id": "36e7e69f",
   "metadata": {},
   "outputs": [],
   "source": [
    "words = open('names.txt', 'r').read().splitlines()"
   ]
  },
  {
   "cell_type": "code",
   "execution_count": 4,
   "id": "002a6ddf",
   "metadata": {},
   "outputs": [],
   "source": [
    "chars = sorted(list(set(''.join(words))))\n",
    "stoi = {s:i+1 for i, s in enumerate(chars)}\n",
    "stoi['.'] = 0\n",
    "itos = {i:s for s,i in stoi.items()}"
   ]
  },
  {
   "cell_type": "code",
   "execution_count": 186,
   "id": "24e70093",
   "metadata": {},
   "outputs": [
    {
     "name": "stdout",
     "output_type": "stream",
     "text": [
      "tensor([[ 0,  5],\n",
      "        [ 5, 13],\n",
      "        [13, 13],\n",
      "        ...,\n",
      "        [26, 25],\n",
      "        [25, 26],\n",
      "        [26, 24]]) tensor([13, 13,  1,  ..., 26, 24,  0])\n",
      "number of examples:  196113\n"
     ]
    }
   ],
   "source": [
    "xs, ys = [], []\n",
    "for w in words:\n",
    "    chs = ['.'] + list(w) + ['.']\n",
    "    for ch1, ch2, ch3 in zip(chs, chs[1:], chs[2:]):\n",
    "        ix1 = stoi[ch1]\n",
    "        ix2 = stoi[ch2]\n",
    "        ix3 = stoi[ch3]\n",
    "        xs.append([ix1,ix2])\n",
    "        ys.append(ix3)\n",
    "xs = torch.tensor(xs)\n",
    "ys = torch.tensor(ys)\n",
    "print(xs,ys)\n",
    "num = len(xs)\n",
    "print(\"number of examples: \", num)\n",
    "g = torch.Generator().manual_seed(2147483647)\n",
    "W = torch.randn((27*2, 27),generator = g, requires_grad = True)"
   ]
  },
  {
   "cell_type": "code",
   "execution_count": 187,
   "id": "2822a359",
   "metadata": {},
   "outputs": [
    {
     "data": {
      "text/plain": [
       "(torch.Size([196113, 2]), torch.Size([196113]))"
      ]
     },
     "execution_count": 187,
     "metadata": {},
     "output_type": "execute_result"
    }
   ],
   "source": [
    "xs.shape, ys.shape"
   ]
  },
  {
   "cell_type": "code",
   "execution_count": 7,
   "id": "5a0d40fa",
   "metadata": {},
   "outputs": [],
   "source": [
    "xenc = F.one_hot(xs, num_classes = 27).float()"
   ]
  },
  {
   "cell_type": "code",
   "execution_count": 8,
   "id": "78ce8cc9",
   "metadata": {},
   "outputs": [
    {
     "data": {
      "text/plain": [
       "(torch.Size([196113, 2, 27]), torch.float32)"
      ]
     },
     "execution_count": 8,
     "metadata": {},
     "output_type": "execute_result"
    }
   ],
   "source": [
    "xenc.shape, xenc.dtype"
   ]
  },
  {
   "cell_type": "code",
   "execution_count": 9,
   "id": "e44c64bb",
   "metadata": {},
   "outputs": [],
   "source": [
    "xenc = xenc.reshape(num, -1)"
   ]
  },
  {
   "cell_type": "code",
   "execution_count": 12,
   "id": "a3d722a8",
   "metadata": {},
   "outputs": [
    {
     "data": {
      "text/plain": [
       "tensor([1., 0., 0., 0., 0., 0., 0., 0., 0., 0., 0., 0., 0., 0., 0., 0., 0., 0.,\n",
       "        0., 0., 0., 0., 0., 0., 0., 0., 0., 0., 0., 0., 0., 0., 1., 0., 0., 0.,\n",
       "        0., 0., 0., 0., 0., 0., 0., 0., 0., 0., 0., 0., 0., 0., 0., 0., 0., 0.])"
      ]
     },
     "execution_count": 12,
     "metadata": {},
     "output_type": "execute_result"
    }
   ],
   "source": [
    "xenc[0]"
   ]
  },
  {
   "cell_type": "code",
   "execution_count": 10,
   "id": "dc4ffc42",
   "metadata": {},
   "outputs": [
    {
     "data": {
      "text/plain": [
       "torch.Size([196113, 54])"
      ]
     },
     "execution_count": 10,
     "metadata": {},
     "output_type": "execute_result"
    }
   ],
   "source": [
    "xenc.shape"
   ]
  },
  {
   "cell_type": "code",
   "execution_count": 11,
   "id": "9e8f2349",
   "metadata": {},
   "outputs": [
    {
     "data": {
      "text/plain": [
       "torch.Size([54, 27])"
      ]
     },
     "execution_count": 11,
     "metadata": {},
     "output_type": "execute_result"
    }
   ],
   "source": [
    "W.shape"
   ]
  },
  {
   "cell_type": "code",
   "execution_count": 239,
   "id": "2d7bd9fd",
   "metadata": {},
   "outputs": [
    {
     "name": "stdout",
     "output_type": "stream",
     "text": [
      "2.2523412704467773\n",
      "2.2523415088653564\n",
      "2.2523412704467773\n",
      "2.2523412704467773\n",
      "2.2523412704467773\n",
      "2.2523412704467773\n",
      "2.2523412704467773\n",
      "2.2523410320281982\n",
      "2.2523410320281982\n",
      "2.2523410320281982\n",
      "2.252340793609619\n",
      "2.252340793609619\n",
      "2.252340793609619\n",
      "2.25234055519104\n",
      "2.252340793609619\n",
      "2.252340793609619\n",
      "2.252340793609619\n",
      "2.252340793609619\n",
      "2.25234055519104\n",
      "2.25234055519104\n",
      "2.25234055519104\n",
      "2.25234055519104\n",
      "2.25234055519104\n",
      "2.25234055519104\n",
      "2.25234055519104\n",
      "2.252340316772461\n",
      "2.252340316772461\n",
      "2.252340316772461\n",
      "2.252340316772461\n",
      "2.252340078353882\n",
      "2.252340078353882\n",
      "2.252340078353882\n",
      "2.252340078353882\n",
      "2.252340078353882\n",
      "2.252340078353882\n",
      "2.252340078353882\n",
      "2.252340078353882\n",
      "2.252340078353882\n",
      "2.252340078353882\n",
      "2.2523398399353027\n",
      "2.2523398399353027\n",
      "2.2523398399353027\n",
      "2.2523396015167236\n",
      "2.2523396015167236\n",
      "2.2523396015167236\n",
      "2.2523396015167236\n",
      "2.2523396015167236\n",
      "2.2523396015167236\n",
      "2.2523398399353027\n",
      "2.2523398399353027\n",
      "2.2523398399353027\n",
      "2.2523398399353027\n",
      "2.2523398399353027\n",
      "2.2523398399353027\n",
      "2.2523393630981445\n",
      "2.2523393630981445\n",
      "2.2523393630981445\n",
      "2.2523393630981445\n",
      "2.2523393630981445\n",
      "2.2523393630981445\n",
      "2.2523393630981445\n",
      "2.2523393630981445\n",
      "2.2523393630981445\n",
      "2.2523393630981445\n",
      "2.2523393630981445\n",
      "2.2523393630981445\n",
      "2.2523393630981445\n",
      "2.2523391246795654\n",
      "2.2523393630981445\n",
      "2.2523393630981445\n",
      "2.2523391246795654\n",
      "2.2523391246795654\n",
      "2.2523391246795654\n",
      "2.2523391246795654\n",
      "2.2523391246795654\n",
      "2.2523391246795654\n",
      "2.2523391246795654\n",
      "2.2523391246795654\n",
      "2.2523391246795654\n",
      "2.2523391246795654\n",
      "2.2523388862609863\n",
      "2.2523391246795654\n",
      "2.2523393630981445\n",
      "2.2523391246795654\n",
      "2.2523391246795654\n",
      "2.2523391246795654\n",
      "2.2523391246795654\n",
      "2.2523391246795654\n",
      "2.2523391246795654\n",
      "2.2523391246795654\n",
      "2.2523391246795654\n",
      "2.2523391246795654\n",
      "2.2523391246795654\n",
      "2.2523391246795654\n",
      "2.2523391246795654\n",
      "2.2523391246795654\n",
      "2.2523391246795654\n",
      "2.2523391246795654\n",
      "2.2523391246795654\n",
      "2.2523391246795654\n"
     ]
    }
   ],
   "source": [
    "for k in range(100):\n",
    "    #forward pass\n",
    "    xenc = F.one_hot(xs, num_classes = 27).float()\n",
    "    xenc = xenc.reshape(num, -1)\n",
    "    logits = xenc @ W # 196113,54 x 54,27 -> 196113,27\n",
    "    counts = logits.exp()\n",
    "    probs = counts / counts.sum(1, keepdim=True)\n",
    "    loss = -probs[torch.arange(num), ys].log().mean() + 0.01 * (W**2).mean()\n",
    "    print(loss.item())\n",
    "\n",
    "    #backward\n",
    "    W.grad = None\n",
    "    loss.backward()\n",
    "\n",
    "    #update\n",
    "    W.data += -((100 - k)/10) * W.grad\n",
    "    #W.data += -40 * W.grad"
   ]
  },
  {
   "cell_type": "code",
   "execution_count": 260,
   "id": "96d3a6b9",
   "metadata": {},
   "outputs": [
    {
     "data": {
      "text/plain": [
       "2.2523391246795654"
      ]
     },
     "execution_count": 260,
     "metadata": {},
     "output_type": "execute_result"
    }
   ],
   "source": [
    "loss.item()"
   ]
  },
  {
   "cell_type": "code",
   "execution_count": 288,
   "id": "2c85ab0a",
   "metadata": {},
   "outputs": [
    {
     "name": "stdout",
     "output_type": "stream",
     "text": [
      "munide.\n",
      "ianasad.\n",
      "u.\n",
      "alay.\n",
      "a.\n",
      "in.\n",
      "esi.\n",
      "ritolia.\n",
      "i.\n",
      "yete.\n",
      "ulinaduwinileviasededaine.\n",
      "i.\n",
      "olese.\n",
      "y.\n",
      "uly.\n",
      "arelynavelethafon.\n",
      "ume.\n",
      "n.\n",
      "nisy.\n",
      "ahasani.\n",
      "core.\n",
      "yarigrely.\n",
      "vabi.\n",
      "herimiki.\n",
      "wynin.\n",
      "anadsn.\n",
      "avolesaselhadiosemitiavili.\n",
      "e.\n",
      "pina.\n",
      "ryaterynosli.\n",
      "isa.\n",
      "ube.\n",
      "emjelumemahadysyaleva.\n",
      "ucoaro.\n",
      "ydeh.\n",
      "renita.\n",
      "a.\n",
      "ay.\n",
      "abely.\n",
      "a.\n",
      "i.\n",
      "elelooni.\n",
      "ahamiave.\n",
      "ara.\n",
      "u.\n",
      "anely.\n",
      "on.\n",
      "slitiki.\n",
      "saloeve.\n",
      "on.\n"
     ]
    }
   ],
   "source": [
    "#sampling from NN\n",
    "g = torch.Generator().manual_seed(2147483647)\n",
    "\n",
    "for i in range(50):\n",
    "    out = []\n",
    "    ix = 0\n",
    "    iy = random.randint(1,26)\n",
    "    while True:\n",
    "        xenc = F.one_hot(torch.tensor([ix,iy]), num_classes = 27).float()\n",
    "        xenc = xenc.reshape(-1, 54)\n",
    "        logits = xenc @ W\n",
    "        counts = logits.exp()\n",
    "        p = counts / counts.sum(1,keepdim=True)\n",
    "        iy = torch.multinomial(p, num_samples = 1, replacement = True, generator = g).item()\n",
    "        out.append(itos[iy])\n",
    "        ix = iy\n",
    "        if iy == 0:\n",
    "            break\n",
    "    print(''.join(out))"
   ]
  }
 ],
 "metadata": {
  "kernelspec": {
   "display_name": "Python 3 (ipykernel)",
   "language": "python",
   "name": "python3"
  },
  "language_info": {
   "codemirror_mode": {
    "name": "ipython",
    "version": 3
   },
   "file_extension": ".py",
   "mimetype": "text/x-python",
   "name": "python",
   "nbconvert_exporter": "python",
   "pygments_lexer": "ipython3",
   "version": "3.11.2"
  }
 },
 "nbformat": 4,
 "nbformat_minor": 5
}
